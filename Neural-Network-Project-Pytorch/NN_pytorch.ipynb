{
 "cells": [
  {
   "cell_type": "markdown",
   "id": "1ac91407",
   "metadata": {},
   "source": [
    "# Neural Network for Binary Classification\n",
    "\n",
    "### Determines if patient had an onset of diabetes within five years\n",
    "- Using Pima Indians dataset downloaded from [here](https://raw.githubusercontent.com/jbrownlee/Datasets/master/pima-indians-diabetes.data.csv)\n",
    "- All input variables that describe each patient are numerical and have been transformed\n",
    "\n",
    "### Input Variables (X)\n",
    "1. Number of times pregnant\n",
    "2. Plasma glucose concentration at 2 hours in an oral glucose tolerance test\n",
    "3. Diastolic blood pressure (mm Hg)\n",
    "4. Triceps skin fold thickness (mm)\n",
    "5. 2-hour serum insulin (μIU/ml)\n",
    "6. Body mass index (weight in kg/(height in m)2)\n",
    "7. Diabetes pedigree function\n",
    "8. Age (years)\n",
    "\n",
    "### Output Variables (Y):\n",
    "- Class label (0 or 1)"
   ]
  },
  {
   "cell_type": "code",
   "execution_count": 44,
   "id": "1c69ac13",
   "metadata": {},
   "outputs": [],
   "source": [
    "import torch\n",
    "import numpy as np\n",
    "import torch.nn as nn\n",
    "import torch.optim as optim\n",
    "from sklearn.model_selection import train_test_split"
   ]
  },
  {
   "cell_type": "code",
   "execution_count": 45,
   "id": "1b5e5c48",
   "metadata": {},
   "outputs": [],
   "source": [
    "# load the dataset, split into input (X) and output (y) variables\n",
    "dataset = np.loadtxt('pima-indians-diabetes.csv', delimiter=',')\n",
    "X = dataset[:,0:8]\n",
    "Y = dataset[:,8]"
   ]
  },
  {
   "cell_type": "code",
   "execution_count": 46,
   "id": "020f6343",
   "metadata": {},
   "outputs": [],
   "source": [
    "X_train, X_test, Y_train, Y_test = train_test_split(\n",
    "    X, Y, test_size=0.2, random_state=42)"
   ]
  },
  {
   "cell_type": "code",
   "execution_count": 47,
   "id": "a67b54e5",
   "metadata": {},
   "outputs": [
    {
     "data": {
      "text/plain": [
       "(154, 8)"
      ]
     },
     "execution_count": 47,
     "metadata": {},
     "output_type": "execute_result"
    }
   ],
   "source": [
    "X_test.shape"
   ]
  },
  {
   "cell_type": "code",
   "execution_count": 48,
   "id": "3e4c7598",
   "metadata": {},
   "outputs": [],
   "source": [
    "X_train = torch.tensor(X_train, dtype=torch.float32)\n",
    "X_test = torch.tensor(X_test, dtype=torch.float32)\n",
    "Y_train = torch.tensor(Y_train, dtype=torch.float32).reshape(-1,1)\n",
    "Y_test = torch.tensor(Y_test, dtype=torch.float32).reshape(-1,1)"
   ]
  },
  {
   "cell_type": "code",
   "execution_count": 49,
   "id": "b004da5a",
   "metadata": {},
   "outputs": [
    {
     "data": {
      "text/plain": [
       "torch.Size([154, 8])"
      ]
     },
     "execution_count": 49,
     "metadata": {},
     "output_type": "execute_result"
    }
   ],
   "source": [
    "X_test.shape"
   ]
  },
  {
   "cell_type": "code",
   "execution_count": 50,
   "id": "5c24d9e0",
   "metadata": {},
   "outputs": [],
   "source": [
    "# model = nn.Sequential(\n",
    "#     nn.Linear(8, 12),\n",
    "#     nn.ReLU(),\n",
    "#     nn.Linear(12,8),\n",
    "#     nn.ReLU(),\n",
    "#     nn.Linear(8,1),\n",
    "#     nn.Sigmoid()\n",
    "# )"
   ]
  },
  {
   "cell_type": "code",
   "execution_count": 51,
   "id": "8df51cf2",
   "metadata": {},
   "outputs": [],
   "source": [
    "# print(model)"
   ]
  },
  {
   "cell_type": "code",
   "execution_count": 52,
   "id": "003a2ca1",
   "metadata": {},
   "outputs": [
    {
     "name": "stdout",
     "output_type": "stream",
     "text": [
      "PimaClassifier(\n",
      "  (hidden1): Linear(in_features=8, out_features=12, bias=True)\n",
      "  (act1): ReLU()\n",
      "  (hidden2): Linear(in_features=12, out_features=8, bias=True)\n",
      "  (act2): ReLU()\n",
      "  (output): Linear(in_features=8, out_features=1, bias=True)\n",
      "  (act_output): Sigmoid()\n",
      ")\n"
     ]
    }
   ],
   "source": [
    "class PimaClassifier(nn.Module):\n",
    "    def __init__(self):\n",
    "        super().__init__()\n",
    "        self.hidden1 = nn.Linear(8,12)\n",
    "        self.act1 = nn.ReLU()\n",
    "        self.hidden2 = nn.Linear(12,8)\n",
    "        self.act2 = nn.ReLU()\n",
    "        self.output = nn.Linear(8,1)\n",
    "        self.act_output = nn.Sigmoid()\n",
    "        \n",
    "    def forward(self, x):\n",
    "        x = self.act1(self.hidden1(x))\n",
    "        x = self.act2(self.hidden2(x))\n",
    "        x = self.act_output(self.output(x))\n",
    "        return x\n",
    "    \n",
    "model = PimaClassifier()\n",
    "print(model)"
   ]
  },
  {
   "cell_type": "code",
   "execution_count": 53,
   "id": "fc42148a",
   "metadata": {},
   "outputs": [],
   "source": [
    "def train_model(lr, n_epochs, batch_size):\n",
    "    model = PimaClassifier()\n",
    "    loss_fn = nn.BCELoss() \n",
    "    optimizer = optim.Adam(model.parameters(), lr=lr)\n",
    "    epoch_losses = [] \n",
    "\n",
    "    for epoch in range(n_epochs):\n",
    "        batch_losses = [] \n",
    "        for i in range(0,len(X_train), batch_size):\n",
    "            Xbatch = X_train[i:i+batch_size]\n",
    "            y_pred = model(Xbatch)\n",
    "            ybatch = Y_train[i:i+batch_size]\n",
    "            loss = loss_fn(y_pred, ybatch)\n",
    "            \n",
    "            batch_losses.append(loss.item())\n",
    "            \n",
    "            optimizer.zero_grad()\n",
    "            loss.backward()\n",
    "            optimizer.step()\n",
    "        \n",
    "        epoch_loss = sum(batch_losses) / len(batch_losses)  \n",
    "        epoch_losses.append(epoch_loss)  \n",
    "        \n",
    "        if epoch%100 == 0 and epoch!=0:\n",
    "            print(f'Finished epoch {epoch}, average loss {epoch_loss}')\n",
    "    \n",
    "    return model, epoch_losses"
   ]
  },
  {
   "cell_type": "code",
   "execution_count": 59,
   "id": "a2159209",
   "metadata": {},
   "outputs": [
    {
     "name": "stdout",
     "output_type": "stream",
     "text": [
      "Finished epoch 100, average loss 0.5773902468142971\n",
      "Finished epoch 200, average loss 0.5503413182112479\n",
      "Finished epoch 300, average loss 0.5321661334845328\n",
      "Finished epoch 400, average loss 0.5154714262293231\n",
      "Finished epoch 500, average loss 0.5035388436048261\n",
      "Finished epoch 600, average loss 0.49525281690782114\n",
      "Finished epoch 700, average loss 0.4876708354680769\n",
      "Finished epoch 800, average loss 0.48024306710689296\n",
      "Finished epoch 900, average loss 0.4730601281889023\n",
      "Finished epoch 100, average loss 0.5393807758246699\n",
      "Finished epoch 200, average loss 0.506139645413045\n",
      "Finished epoch 300, average loss 0.4777168028296963\n",
      "Finished epoch 400, average loss 0.4411319823515031\n",
      "Finished epoch 500, average loss 0.41228785125478623\n",
      "Finished epoch 600, average loss 0.39380362197276086\n",
      "Finished epoch 700, average loss 0.37422477670254245\n",
      "Finished epoch 800, average loss 0.36670893574914626\n",
      "Finished epoch 900, average loss 0.3589966763411799\n",
      "Finished epoch 100, average loss 0.48808890484994455\n",
      "Finished epoch 200, average loss 0.4361442803375183\n",
      "Finished epoch 300, average loss 0.41232356477168297\n",
      "Finished epoch 400, average loss 0.40287281524750496\n",
      "Finished epoch 500, average loss 0.3839858143079665\n",
      "Finished epoch 600, average loss 0.37598137142917804\n",
      "Finished epoch 700, average loss 0.3716915567675906\n",
      "Finished epoch 800, average loss 0.366753957684963\n",
      "Finished epoch 900, average loss 0.3630006876323492\n",
      "Finished epoch 100, average loss 0.4554221589238413\n",
      "Finished epoch 200, average loss 0.4019889126141225\n",
      "Finished epoch 300, average loss 0.3953503027798668\n",
      "Finished epoch 400, average loss 0.4267557292215286\n",
      "Finished epoch 500, average loss 0.4302432154936175\n",
      "Finished epoch 600, average loss 0.39140618195937527\n",
      "Finished epoch 700, average loss 0.3859901175864281\n",
      "Finished epoch 800, average loss 0.38802119981377353\n",
      "Finished epoch 900, average loss 0.39872138238241595\n",
      "Finished epoch 100, average loss 0.5537886369612909\n",
      "Finished epoch 200, average loss 0.4809868393405791\n",
      "Finished epoch 300, average loss 0.47525431023490045\n",
      "Finished epoch 400, average loss 0.4762513815395294\n",
      "Finished epoch 500, average loss 0.4740692816915051\n",
      "Finished epoch 600, average loss 0.4724242531003491\n",
      "Finished epoch 700, average loss 0.47366091753205947\n",
      "Finished epoch 800, average loss 0.47337504548411213\n",
      "Finished epoch 900, average loss 0.4715481905206557\n",
      "Finished epoch 100, average loss 65.16129032258064\n",
      "Finished epoch 200, average loss 65.16129032258064\n",
      "Finished epoch 300, average loss 65.16129032258064\n",
      "Finished epoch 400, average loss 65.16129032258064\n",
      "Finished epoch 500, average loss 65.16129032258064\n",
      "Finished epoch 600, average loss 65.16129032258064\n",
      "Finished epoch 700, average loss 65.16129032258064\n",
      "Finished epoch 800, average loss 65.16129032258064\n",
      "Finished epoch 900, average loss 65.16129032258064\n"
     ]
    }
   ],
   "source": [
    "learning_rates = sorted([0.001, 0.0005, 0.0001, 0.005, 0.01, 0.1])\n",
    "batch_size_param = 10\n",
    "#batch_sizes = [10, 20, 30]\n",
    "n_epochs = 1000\n",
    "\n",
    "models = {}\n",
    "losses_ls= {}\n",
    "\n",
    "for i in learning_rates:\n",
    "    model, losses = train_model(lr=i, n_epochs=1000, batch_size=batch_size_param)\n",
    "    models[f\"Learning rate{i}\"] = model\n",
    "    losses_ls[f\"Learning rate{i}\"] = losses"
   ]
  },
  {
   "cell_type": "code",
   "execution_count": 77,
   "id": "fc429d72",
   "metadata": {},
   "outputs": [
    {
     "data": {
      "image/png": "[encoded data removed]",
      "text/plain": [
       "<Figure size 640x480 with 1 Axes>"
      ]
     },
     "metadata": {},
     "output_type": "display_data"
    }
   ],
   "source": [
    "import matplotlib.pyplot as plt\n",
    "for key in losses_ls:\n",
    "    plt.plot(losses_ls[key], label=key)\n",
    "    plt.ylabel('loss')\n",
    "    plt.xlabel('epoch')\n",
    "    plt.title(\"Comparing Learning Rates\")\n",
    "    plt.ylim(0,5)\n",
    "    plt.xlim(0, 30)\n",
    "    plt.legend()\n",
    "    plt.show"
   ]
  },
  {
   "cell_type": "code",
   "execution_count": 76,
   "id": "1e822bed",
   "metadata": {},
   "outputs": [
    {
     "name": "stdout",
     "output_type": "stream",
     "text": [
      "Learning rate0.0001 ==> Accuracy 0.7207792401313782\n",
      "[6.0, 98.0, 58.0, 33.0, 190.0, 34.0, 0.4300000071525574, 43.0] => 1 (expected 0)\n",
      "[2.0, 112.0, 75.0, 32.0, 0.0, 35.70000076293945, 0.14800000190734863, 21.0] => 0 (expected 0)\n",
      "[2.0, 108.0, 64.0, 0.0, 0.0, 30.799999237060547, 0.15800000727176666, 21.0] => 0 (expected 0)\n",
      "[8.0, 107.0, 80.0, 0.0, 0.0, 24.600000381469727, 0.8560000061988831, 34.0] => 0 (expected 0)\n",
      "[7.0, 136.0, 90.0, 0.0, 0.0, 29.899999618530273, 0.20999999344348907, 50.0] => 0 (expected 0)\n",
      "Learning rate0.0005 ==> Accuracy 0.7597402334213257\n",
      "[6.0, 98.0, 58.0, 33.0, 190.0, 34.0, 0.4300000071525574, 43.0] => 1 (expected 0)\n",
      "[2.0, 112.0, 75.0, 32.0, 0.0, 35.70000076293945, 0.14800000190734863, 21.0] => 0 (expected 0)\n",
      "[2.0, 108.0, 64.0, 0.0, 0.0, 30.799999237060547, 0.15800000727176666, 21.0] => 0 (expected 0)\n",
      "[8.0, 107.0, 80.0, 0.0, 0.0, 24.600000381469727, 0.8560000061988831, 34.0] => 0 (expected 0)\n",
      "[7.0, 136.0, 90.0, 0.0, 0.0, 29.899999618530273, 0.20999999344348907, 50.0] => 1 (expected 0)\n",
      "Learning rate0.001 ==> Accuracy 0.7337662577629089\n",
      "[6.0, 98.0, 58.0, 33.0, 190.0, 34.0, 0.4300000071525574, 43.0] => 1 (expected 0)\n",
      "[2.0, 112.0, 75.0, 32.0, 0.0, 35.70000076293945, 0.14800000190734863, 21.0] => 0 (expected 0)\n",
      "[2.0, 108.0, 64.0, 0.0, 0.0, 30.799999237060547, 0.15800000727176666, 21.0] => 0 (expected 0)\n",
      "[8.0, 107.0, 80.0, 0.0, 0.0, 24.600000381469727, 0.8560000061988831, 34.0] => 0 (expected 0)\n",
      "[7.0, 136.0, 90.0, 0.0, 0.0, 29.899999618530273, 0.20999999344348907, 50.0] => 0 (expected 0)\n",
      "Learning rate0.005 ==> Accuracy 0.7727272510528564\n",
      "[6.0, 98.0, 58.0, 33.0, 190.0, 34.0, 0.4300000071525574, 43.0] => 1 (expected 0)\n",
      "[2.0, 112.0, 75.0, 32.0, 0.0, 35.70000076293945, 0.14800000190734863, 21.0] => 0 (expected 0)\n",
      "[2.0, 108.0, 64.0, 0.0, 0.0, 30.799999237060547, 0.15800000727176666, 21.0] => 0 (expected 0)\n",
      "[8.0, 107.0, 80.0, 0.0, 0.0, 24.600000381469727, 0.8560000061988831, 34.0] => 0 (expected 0)\n",
      "[7.0, 136.0, 90.0, 0.0, 0.0, 29.899999618530273, 0.20999999344348907, 50.0] => 1 (expected 0)\n",
      "Learning rate0.01 ==> Accuracy 0.6948052048683167\n",
      "[6.0, 98.0, 58.0, 33.0, 190.0, 34.0, 0.4300000071525574, 43.0] => 0 (expected 0)\n",
      "[2.0, 112.0, 75.0, 32.0, 0.0, 35.70000076293945, 0.14800000190734863, 21.0] => 0 (expected 0)\n",
      "[2.0, 108.0, 64.0, 0.0, 0.0, 30.799999237060547, 0.15800000727176666, 21.0] => 0 (expected 0)\n",
      "[8.0, 107.0, 80.0, 0.0, 0.0, 24.600000381469727, 0.8560000061988831, 34.0] => 0 (expected 0)\n",
      "[7.0, 136.0, 90.0, 0.0, 0.0, 29.899999618530273, 0.20999999344348907, 50.0] => 1 (expected 0)\n",
      "Learning rate0.1 ==> Accuracy 0.3571428656578064\n",
      "[6.0, 98.0, 58.0, 33.0, 190.0, 34.0, 0.4300000071525574, 43.0] => 1 (expected 0)\n",
      "[2.0, 112.0, 75.0, 32.0, 0.0, 35.70000076293945, 0.14800000190734863, 21.0] => 1 (expected 0)\n",
      "[2.0, 108.0, 64.0, 0.0, 0.0, 30.799999237060547, 0.15800000727176666, 21.0] => 1 (expected 0)\n",
      "[8.0, 107.0, 80.0, 0.0, 0.0, 24.600000381469727, 0.8560000061988831, 34.0] => 1 (expected 0)\n",
      "[7.0, 136.0, 90.0, 0.0, 0.0, 29.899999618530273, 0.20999999344348907, 50.0] => 1 (expected 0)\n"
     ]
    }
   ],
   "source": [
    "# compute accuracy (no_grad is optional)\n",
    "for key in models:\n",
    "    model_ = models[key]\n",
    "    y_pred = model_(X_test)    \n",
    "    accuracy = (y_pred.round() == Y_test).float().mean()\n",
    "    print(f\"{key} ==> Accuracy {accuracy}\")\n",
    "\n",
    "    predictions = (model_(X_test) > 0.5).int()\n",
    "    for i in range(5):\n",
    "        print('%s => %d (expected %d)' % (X_test[i].tolist(), predictions[i], Y_test[i]))"
   ]
  },
  {
   "cell_type": "code",
   "execution_count": null,
   "id": "aa65b861",
   "metadata": {},
   "outputs": [],
   "source": []
  }
 ],
 "metadata": {
  "kernelspec": {
   "display_name": "Python 3 (ipykernel)",
   "language": "python",
   "name": "python3"
  },
  "language_info": {
   "codemirror_mode": {
    "name": "ipython",
    "version": 3
   },
   "file_extension": ".py",
   "mimetype": "text/x-python",
   "name": "python",
   "nbconvert_exporter": "python",
   "pygments_lexer": "ipython3",
   "version": "3.10.9"
  }
 },
 "nbformat": 4,
 "nbformat_minor": 5
}
