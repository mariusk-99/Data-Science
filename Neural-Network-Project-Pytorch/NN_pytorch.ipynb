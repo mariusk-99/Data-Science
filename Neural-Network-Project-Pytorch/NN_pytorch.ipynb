{
 "cells": [
  {
   "cell_type": "markdown",
   "id": "1ac91407",
   "metadata": {},
   "source": [
    "# Neural Network for Binary Classification\n",
    "\n",
    "### Determines if patient had an onset of diabetes within five years\n",
    "- Using Pima Indians dataset downloaded from [here](https://raw.githubusercontent.com/jbrownlee/Datasets/master/pima-indians-diabetes.data.csv)\n",
    "- All input variables that describe each patient are numerical and have been transformed\n",
    "\n",
    "### Input Variables (X)\n",
    "1. Number of times pregnant\n",
    "2. Plasma glucose concentration at 2 hours in an oral glucose tolerance test\n",
    "3. Diastolic blood pressure (mm Hg)\n",
    "4. Triceps skin fold thickness (mm)\n",
    "5. 2-hour serum insulin (μIU/ml)\n",
    "6. Body mass index (weight in kg/(height in m)2)\n",
    "7. Diabetes pedigree function\n",
    "8. Age (years)\n",
    "\n",
    "### Output Variables (Y):\n",
    "- Class label (0 or 1)"
   ]
  },
  {
   "cell_type": "code",
   "execution_count": 17,
   "id": "1c69ac13",
   "metadata": {},
   "outputs": [],
   "source": [
    "import torch\n",
    "import numpy as np\n",
    "import torch.nn as nn\n",
    "import torch.optim as optim\n",
    "from sklearn.model_selection import train_test_split"
   ]
  },
  {
   "cell_type": "code",
   "execution_count": 18,
   "id": "1b5e5c48",
   "metadata": {},
   "outputs": [],
   "source": [
    "# load the dataset, split into input (X) and output (y) variables\n",
    "dataset = np.loadtxt('pima-indians-diabetes.csv', delimiter=',')\n",
    "X = dataset[:,0:8]\n",
    "Y = dataset[:,8]"
   ]
  },
  {
   "cell_type": "code",
   "execution_count": 19,
   "id": "020f6343",
   "metadata": {},
   "outputs": [],
   "source": [
    "X_train, X_test, Y_train, Y_test = train_test_split(\n",
    "    X, Y, test_size=0.2, random_state=42)"
   ]
  },
  {
   "cell_type": "code",
   "execution_count": 20,
   "id": "a67b54e5",
   "metadata": {},
   "outputs": [
    {
     "data": {
      "text/plain": [
       "(154, 8)"
      ]
     },
     "execution_count": 20,
     "metadata": {},
     "output_type": "execute_result"
    }
   ],
   "source": [
    "X_test.shape"
   ]
  },
  {
   "cell_type": "code",
   "execution_count": 21,
   "id": "3e4c7598",
   "metadata": {},
   "outputs": [],
   "source": [
    "X_train = torch.tensor(X_train, dtype=torch.float32)\n",
    "X_test = torch.tensor(X_test, dtype=torch.float32)\n",
    "Y_train = torch.tensor(Y_train, dtype=torch.float32).reshape(-1,1)\n",
    "Y_test = torch.tensor(Y_test, dtype=torch.float32).reshape(-1,1)"
   ]
  },
  {
   "cell_type": "code",
   "execution_count": 22,
   "id": "b004da5a",
   "metadata": {},
   "outputs": [
    {
     "data": {
      "text/plain": [
       "torch.Size([154, 8])"
      ]
     },
     "execution_count": 22,
     "metadata": {},
     "output_type": "execute_result"
    }
   ],
   "source": [
    "X_test.shape"
   ]
  },
  {
   "cell_type": "code",
   "execution_count": 23,
   "id": "5c24d9e0",
   "metadata": {},
   "outputs": [],
   "source": [
    "# model = nn.Sequential(\n",
    "#     nn.Linear(8, 12),\n",
    "#     nn.ReLU(),\n",
    "#     nn.Linear(12,8),\n",
    "#     nn.ReLU(),\n",
    "#     nn.Linear(8,1),\n",
    "#     nn.Sigmoid()\n",
    "# )"
   ]
  },
  {
   "cell_type": "code",
   "execution_count": 24,
   "id": "8df51cf2",
   "metadata": {},
   "outputs": [],
   "source": [
    "# print(model)"
   ]
  },
  {
   "cell_type": "code",
   "execution_count": 25,
   "id": "003a2ca1",
   "metadata": {},
   "outputs": [
    {
     "name": "stdout",
     "output_type": "stream",
     "text": [
      "PimaClassifier(\n",
      "  (hidden1): Linear(in_features=8, out_features=12, bias=True)\n",
      "  (act1): ReLU()\n",
      "  (hidden2): Linear(in_features=12, out_features=8, bias=True)\n",
      "  (act2): ReLU()\n",
      "  (output): Linear(in_features=8, out_features=1, bias=True)\n",
      "  (act_output): Sigmoid()\n",
      ")\n"
     ]
    }
   ],
   "source": [
    "class PimaClassifier(nn.Module):\n",
    "    def __init__(self):\n",
    "        super().__init__()\n",
    "        self.hidden1 = nn.Linear(8,12)\n",
    "        self.act1 = nn.ReLU()\n",
    "        self.hidden2 = nn.Linear(12,8)\n",
    "        self.act2 = nn.ReLU()\n",
    "        self.output = nn.Linear(8,1)\n",
    "        self.act_output = nn.Sigmoid()\n",
    "        \n",
    "    def forward(self, x):\n",
    "        x = self.act1(self.hidden1(x))\n",
    "        x = self.act2(self.hidden2(x))\n",
    "        x = self.act_output(self.output(x))\n",
    "        return x\n",
    "    \n",
    "model = PimaClassifier()\n",
    "print(model)"
   ]
  },
  {
   "cell_type": "code",
   "execution_count": 26,
   "id": "ecd65557",
   "metadata": {},
   "outputs": [],
   "source": [
    "loss_fn = nn.BCELoss() # binary cross entropy\n",
    "optimizer = optim.Adam(model.parameters(), lr=0.0001)"
   ]
  },
  {
   "cell_type": "code",
   "execution_count": 27,
   "id": "fc42148a",
   "metadata": {},
   "outputs": [
    {
     "name": "stdout",
     "output_type": "stream",
     "text": [
      "Finished epoch 100, latest loss 0.5586108565330505\n",
      "Finished epoch 200, latest loss 0.3932972550392151\n",
      "Finished epoch 300, latest loss 0.25635620951652527\n",
      "Finished epoch 400, latest loss 0.2049255669116974\n",
      "Finished epoch 500, latest loss 0.17954760789871216\n",
      "Finished epoch 600, latest loss 0.1609944999217987\n",
      "Finished epoch 700, latest loss 0.14911355078220367\n",
      "Finished epoch 800, latest loss 0.1395576447248459\n",
      "Finished epoch 900, latest loss 0.13003867864608765\n",
      "Finished epoch 1000, latest loss 0.12320232391357422\n"
     ]
    }
   ],
   "source": [
    "n_epochs = 1000\n",
    "batch_size = 10\n",
    "epoch_losses = [] # store average loss per epoch\n",
    "for epoch in range(1,n_epochs+1):\n",
    "    batch_losses = [] # store loss for each\n",
    "    for i in range(0,len(X_train), batch_size):\n",
    "        Xbatch = X_train[i:i+batch_size]\n",
    "        y_pred = model(Xbatch)\n",
    "        ybatch = Y_train[i:i+batch_size]\n",
    "        loss = loss_fn(y_pred, ybatch)\n",
    "        \n",
    "        batch_losses.append(loss.item())\n",
    "        \n",
    "        optimizer.zero_grad()\n",
    "        loss.backward()\n",
    "        optimizer.step()\n",
    "    epoch_loss = sum(batch_losses) / len(batch_losses) # Calculate average loss for this epoch\n",
    "    epoch_losses.append(epoch_loss)\n",
    "        \n",
    "    if epoch%100 == 0:\n",
    "        print(f'Finished epoch {epoch}, latest loss {loss}')"
   ]
  },
  {
   "cell_type": "code",
   "execution_count": 28,
   "id": "1e822bed",
   "metadata": {},
   "outputs": [
    {
     "name": "stdout",
     "output_type": "stream",
     "text": [
      "Accuracy 0.7467532753944397\n"
     ]
    }
   ],
   "source": [
    "# compute accuracy (no_grad is optional)\n",
    "y_pred = model(X_test)    \n",
    "accuracy = (y_pred.round() == Y_test).float().mean()\n",
    "print(f\"Accuracy {accuracy}\")"
   ]
  },
  {
   "cell_type": "code",
   "execution_count": 29,
   "id": "a728c80f",
   "metadata": {},
   "outputs": [
    {
     "name": "stdout",
     "output_type": "stream",
     "text": [
      "[6.0, 98.0, 58.0, 33.0, 190.0, 34.0, 0.4300000071525574, 43.0] => 1 (expected 0)\n",
      "[2.0, 112.0, 75.0, 32.0, 0.0, 35.70000076293945, 0.14800000190734863, 21.0] => 0 (expected 0)\n",
      "[2.0, 108.0, 64.0, 0.0, 0.0, 30.799999237060547, 0.15800000727176666, 21.0] => 0 (expected 0)\n",
      "[8.0, 107.0, 80.0, 0.0, 0.0, 24.600000381469727, 0.8560000061988831, 34.0] => 0 (expected 0)\n",
      "[7.0, 136.0, 90.0, 0.0, 0.0, 29.899999618530273, 0.20999999344348907, 50.0] => 1 (expected 0)\n"
     ]
    }
   ],
   "source": [
    "predictions = (model(X_test) > 0.5).int()\n",
    "for i in range(5):\n",
    "    print('%s => %d (expected %d)' % (X_test[i].tolist(), predictions[i], Y_test[i]))"
   ]
  },
  {
   "cell_type": "code",
   "execution_count": 34,
   "id": "f5668050",
   "metadata": {},
   "outputs": [
    {
     "data": {
      "text/plain": [
       "<function matplotlib.pyplot.show(close=None, block=None)>"
      ]
     },
     "execution_count": 34,
     "metadata": {},
     "output_type": "execute_result"
    },
    {
     "data": {
      "image/png": "[encoded data removed]",
      "text/plain": [
       "<Figure size 640x480 with 1 Axes>"
      ]
     },
     "metadata": {},
     "output_type": "display_data"
    }
   ],
   "source": [
    "import matplotlib.pyplot as plt\n",
    "learning_rate = 0.001\n",
    "\n",
    "plt.plot(epoch_losses)\n",
    "plt.ylabel('loss')\n",
    "plt.xlabel('epoch')\n",
    "plt.title(\"Learning rate 0.0001\")\n",
    "plt.xlim(0, 25)\n",
    "plt.show"
   ]
  },
  {
   "cell_type": "code",
   "execution_count": null,
   "id": "aa65b861",
   "metadata": {},
   "outputs": [],
   "source": []
  }
 ],
 "metadata": {
  "kernelspec": {
   "display_name": "Python 3 (ipykernel)",
   "language": "python",
   "name": "python3"
  },
  "language_info": {
   "codemirror_mode": {
    "name": "ipython",
    "version": 3
   },
   "file_extension": ".py",
   "mimetype": "text/x-python",
   "name": "python",
   "nbconvert_exporter": "python",
   "pygments_lexer": "ipython3",
   "version": "3.10.9"
  }
 },
 "nbformat": 4,
 "nbformat_minor": 5
}
